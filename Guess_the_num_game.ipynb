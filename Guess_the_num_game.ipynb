{
 "cells": [
  {
   "cell_type": "markdown",
   "id": "2e96ce5b-032e-4332-9e12-e63994e7c5d8",
   "metadata": {},
   "source": [
    "# ===== Guess The Number Game ====="
   ]
  },
  {
   "cell_type": "markdown",
   "id": "35c45251-5407-426c-b14e-f9b154003096",
   "metadata": {},
   "source": [
    "-- Conditional Statements/Control Flow/Logical Statement\n",
    "\n",
    "--For Loop\n",
    "\n",
    "--Functions"
   ]
  },
  {
   "cell_type": "markdown",
   "id": "53d52749-3413-4607-a9b9-a99df0c74fdd",
   "metadata": {},
   "source": [
    "## Conditional Statements"
   ]
  },
  {
   "cell_type": "markdown",
   "id": "0978c423-40ff-40bd-b018-530719eb1a38",
   "metadata": {},
   "source": [
    "Lets state the conditions\n",
    "\n",
    "0 - 12 > Child \n",
    "\n",
    "13 - 19 > Teens\n",
    "\n",
    "20 - 35 > Young Adult or Youth\n",
    "\n",
    "36 - 50 > Adult or Middle Aged\n",
    "\n",
    "51 - Above > Senior Citizen or Elderly"
   ]
  },
  {
   "cell_type": "code",
   "execution_count": 1,
   "id": "11d3c2bb-2004-4dda-8f47-3900c050d8e5",
   "metadata": {},
   "outputs": [],
   "source": [
    "age = 55"
   ]
  },
  {
   "cell_type": "code",
   "execution_count": 2,
   "id": "09f1dc2c-9cb9-4c93-b956-bbf6c3bd414c",
   "metadata": {},
   "outputs": [
    {
     "name": "stdout",
     "output_type": "stream",
     "text": [
      "Senior Citizen or Elderly\n"
     ]
    }
   ],
   "source": [
    "if 0 <= age <= 12:\n",
    "    print(\"Child\")\n",
    "elif 13 <= age <= 19:\n",
    "    print(\"Teens\")\n",
    "elif 20 <= age <= 35:\n",
    "    print(\"Youth or Young Adult\")\n",
    "elif 36 <= age <= 50:\n",
    "    print (\"Adult or Middle Aged\")\n",
    "else:\n",
    "    print(\"Senior Citizen or Elderly\")"
   ]
  },
  {
   "cell_type": "markdown",
   "id": "c79d36cf-f208-4213-874d-df3496b48c55",
   "metadata": {},
   "source": [
    "## For Loops"
   ]
  },
  {
   "cell_type": "code",
   "execution_count": 3,
   "id": "8dc319d0-ab66-4ba9-aa7e-61be25b015e3",
   "metadata": {},
   "outputs": [],
   "source": [
    "wish_list = [\n",
    "  \"Job\", \n",
    "    \"Wife\",\n",
    "    \"Kid\",\n",
    "    \"Dollars\",\n",
    "    \"Mansion\",\n",
    "    \"Cat\",\n",
    "    \"Vacation\",\n",
    "    \"Travel\",\n",
    "    \"Private Jet\",\n",
    "    \"Peace\"  \n",
    "]"
   ]
  },
  {
   "cell_type": "code",
   "execution_count": 4,
   "id": "87ec9047-69cb-4399-a2d9-5bcb18f8763f",
   "metadata": {},
   "outputs": [
    {
     "name": "stdout",
     "output_type": "stream",
     "text": [
      "['Job', 'Wife', 'Kid', 'Dollars', 'Mansion', 'Cat', 'Vacation', 'Travel', 'Private Jet', 'Peace']\n"
     ]
    }
   ],
   "source": [
    "print(wish_list)"
   ]
  },
  {
   "cell_type": "code",
   "execution_count": 5,
   "id": "00d2c41e-484f-431f-a323-5333f811cbc6",
   "metadata": {},
   "outputs": [
    {
     "name": "stdout",
     "output_type": "stream",
     "text": [
      "Job\n",
      "Wife\n",
      "Kid\n",
      "Dollars\n",
      "Mansion\n",
      "Cat\n",
      "Vacation\n",
      "Travel\n",
      "Private Jet\n",
      "Peace\n"
     ]
    }
   ],
   "source": [
    "for wish in wish_list:\n",
    "    print(wish)"
   ]
  },
  {
   "cell_type": "markdown",
   "id": "6b9087fe-97ea-4ff5-9c6c-a07b80a8bde7",
   "metadata": {},
   "source": [
    "## Functions\n",
    "\n",
    "- View or Print\n",
    "- Withdraw or return"
   ]
  },
  {
   "cell_type": "code",
   "execution_count": 6,
   "id": "c11f6f29-fd65-49ce-8bf7-c56b60b7c486",
   "metadata": {},
   "outputs": [
    {
     "name": "stdout",
     "output_type": "stream",
     "text": [
      "Hello Junior, hope you are enjoying learning Python\n"
     ]
    }
   ],
   "source": [
    "print(\"Hello Junior, hope you are enjoying learning Python\")"
   ]
  },
  {
   "cell_type": "code",
   "execution_count": 7,
   "id": "58ed8570-4666-44c9-9a0e-20f3eaf490ce",
   "metadata": {},
   "outputs": [
    {
     "name": "stdout",
     "output_type": "stream",
     "text": [
      "Hello Rotondwa, hope you are enjoying learning Python\n"
     ]
    }
   ],
   "source": [
    "print(\"Hello Rotondwa, hope you are enjoying learning Python\")"
   ]
  },
  {
   "cell_type": "code",
   "execution_count": 8,
   "id": "f9fc071b-c015-4d63-a58d-29af39183b6c",
   "metadata": {},
   "outputs": [],
   "source": [
    "def greeting(name):\n",
    "    print(\"Hello,\", name, \"hope you are enjoying learnning python\")"
   ]
  },
  {
   "cell_type": "code",
   "execution_count": 9,
   "id": "f710b3b8-ae9b-4be4-b388-2994c256311b",
   "metadata": {},
   "outputs": [
    {
     "name": "stdout",
     "output_type": "stream",
     "text": [
      "Hello, Beimnet hope you are enjoying learnning python\n"
     ]
    }
   ],
   "source": [
    "greeting(\"Beimnet\")"
   ]
  },
  {
   "cell_type": "code",
   "execution_count": 10,
   "id": "3441fe4b-d1dc-40ce-ad8f-32a18376f001",
   "metadata": {},
   "outputs": [
    {
     "name": "stdout",
     "output_type": "stream",
     "text": [
      "Hello, Samuel hope you are enjoying learnning python\n"
     ]
    }
   ],
   "source": [
    "greeting(\"Samuel\")"
   ]
  },
  {
   "cell_type": "code",
   "execution_count": 11,
   "id": "afd6b08c-3c1d-43dd-b60e-5104fdf2cd4d",
   "metadata": {},
   "outputs": [],
   "source": [
    "list_of_names = [\n",
    "    \"Beimnet\",\n",
    "    \"Samuel\",\n",
    "    \"Junior\",\n",
    "    \"Rose\",\n",
    "    \"Philex\",\n",
    "    \"Glory\"\n",
    "]"
   ]
  },
  {
   "cell_type": "code",
   "execution_count": 12,
   "id": "8181cb5e-a47c-4b19-b7e7-3f8711ac4805",
   "metadata": {},
   "outputs": [
    {
     "name": "stdout",
     "output_type": "stream",
     "text": [
      "Hello, Beimnet hope you are enjoying learnning python\n",
      "Hello, Samuel hope you are enjoying learnning python\n",
      "Hello, Junior hope you are enjoying learnning python\n",
      "Hello, Rose hope you are enjoying learnning python\n",
      "Hello, Philex hope you are enjoying learnning python\n",
      "Hello, Glory hope you are enjoying learnning python\n"
     ]
    }
   ],
   "source": [
    "for name in list_of_names:\n",
    "    greeting(name)"
   ]
  },
  {
   "cell_type": "code",
   "execution_count": 13,
   "id": "24a57be0-9454-4c82-8547-7c6894746451",
   "metadata": {},
   "outputs": [
    {
     "name": "stdout",
     "output_type": "stream",
     "text": [
      "Hello, Glory hope you are enjoying learnning python\n"
     ]
    }
   ],
   "source": [
    "abc = greeting(name)"
   ]
  },
  {
   "cell_type": "code",
   "execution_count": 14,
   "id": "a0b9b6c4-f347-456b-997a-dec9ba65b5f5",
   "metadata": {},
   "outputs": [],
   "source": [
    "abc"
   ]
  },
  {
   "cell_type": "code",
   "execution_count": 15,
   "id": "e2581176-c8fe-4b6c-a455-859a36b64c02",
   "metadata": {},
   "outputs": [],
   "source": [
    "def addition(a,b):\n",
    "    added = a + b\n",
    "    return added"
   ]
  },
  {
   "cell_type": "code",
   "execution_count": 16,
   "id": "aa67639f-4f59-4d87-b6eb-2edcd21447e9",
   "metadata": {},
   "outputs": [],
   "source": [
    "add_numbers = addition(7,8)"
   ]
  },
  {
   "cell_type": "code",
   "execution_count": 17,
   "id": "3d11c9bb-18ec-4f5c-8907-32683c9200e2",
   "metadata": {},
   "outputs": [
    {
     "data": {
      "text/plain": [
       "15"
      ]
     },
     "execution_count": 17,
     "metadata": {},
     "output_type": "execute_result"
    }
   ],
   "source": [
    "add_numbers"
   ]
  },
  {
   "cell_type": "code",
   "execution_count": null,
   "id": "28af14e4-1076-4146-adae-091f81eff470",
   "metadata": {},
   "outputs": [],
   "source": []
  },
  {
   "cell_type": "markdown",
   "id": "d415f646-f399-406d-8796-e7a3f1f2dfc9",
   "metadata": {},
   "source": [
    "## Now!... Let The Game Begin V1"
   ]
  },
  {
   "cell_type": "code",
   "execution_count": 18,
   "id": "ead2f0de-b74c-4706-abf1-1fe6aae88cfc",
   "metadata": {
    "jupyter": {
     "source_hidden": true
    }
   },
   "outputs": [
    {
     "name": "stdout",
     "output_type": "stream",
     "text": [
      "\n",
      "\n",
      "***** Guess The Game *****\n"
     ]
    }
   ],
   "source": [
    "print()\n",
    "print()\n",
    "print(\"***** Guess The Game *****\")"
   ]
  },
  {
   "cell_type": "code",
   "execution_count": 19,
   "id": "8ada5d39-62b2-4605-85a0-093a4dec3171",
   "metadata": {},
   "outputs": [],
   "source": [
    "secret_number = 7 # number between 1 - 10"
   ]
  },
  {
   "cell_type": "code",
   "execution_count": 20,
   "id": "9b8ab045-b6f9-4f52-99ed-ddd1bb650cc7",
   "metadata": {},
   "outputs": [],
   "source": [
    "guess = 5"
   ]
  },
  {
   "cell_type": "code",
   "execution_count": 21,
   "id": "777d4a98-81b9-4778-8f07-e232e22777d3",
   "metadata": {},
   "outputs": [
    {
     "name": "stdout",
     "output_type": "stream",
     "text": [
      "Oops. low!!! Guess a higher number\n"
     ]
    }
   ],
   "source": [
    "if guess == secret_number:\n",
    "    print(\"Congratulations!!! You guessed right!!!\")\n",
    "elif guess > secret_number:\n",
    "    print(\"Oops, too high, guess lower\")\n",
    "else:\n",
    "    print(\"Oops. low!!! Guess a higher number\")"
   ]
  },
  {
   "cell_type": "code",
   "execution_count": null,
   "id": "fb97d244-95bb-4cca-8241-b13adc00f1f9",
   "metadata": {},
   "outputs": [],
   "source": [
    "\n"
   ]
  },
  {
   "cell_type": "markdown",
   "id": "b08b06c4-a3f5-41d3-8217-dc2c9e854c31",
   "metadata": {},
   "source": [
    "### Limitions of the above version of the game \n",
    "- not fun\n",
    "- having to manually repeat the number\n",
    "- the secret number is no secret"
   ]
  },
  {
   "cell_type": "markdown",
   "id": "6e6f91ed-dac0-41f2-8250-b2a4b162eba2",
   "metadata": {},
   "source": [
    "### Make the sceret number secret"
   ]
  },
  {
   "cell_type": "code",
   "execution_count": 54,
   "id": "cf16c40c-8a7a-4f2b-b08b-5b88f5ce7836",
   "metadata": {},
   "outputs": [],
   "source": [
    "## Now!... Let The Game Begin V2"
   ]
  },
  {
   "cell_type": "code",
   "execution_count": 23,
   "id": "f299cd34-5e15-48cb-9e4c-459311654f8b",
   "metadata": {},
   "outputs": [],
   "source": [
    "import random"
   ]
  },
  {
   "cell_type": "code",
   "execution_count": 24,
   "id": "e84b58fd-b0f0-4c5e-a10a-fec70165494d",
   "metadata": {},
   "outputs": [],
   "source": [
    "secret_number = random.randint(1, 10)"
   ]
  },
  {
   "cell_type": "code",
   "execution_count": 25,
   "id": "509ebcc4-8ab0-47f9-91e4-89f9cfae646c",
   "metadata": {},
   "outputs": [],
   "source": [
    "guess = 7"
   ]
  },
  {
   "cell_type": "code",
   "execution_count": 26,
   "id": "8f0a2e78-1339-4fc1-91df-b31b0d5b1ae6",
   "metadata": {},
   "outputs": [
    {
     "name": "stdout",
     "output_type": "stream",
     "text": [
      "Oops. low!!! Guess a higher number\n"
     ]
    }
   ],
   "source": [
    "if guess == secret_number:\n",
    "    print(\"Congratulations!!! You guessed right!!!\")\n",
    "elif guess > secret_number:\n",
    "    print(\"Oops, too high, guess lower\")\n",
    "else:\n",
    "    print(\"Oops. low!!! Guess a higher number\")"
   ]
  },
  {
   "cell_type": "markdown",
   "id": "e62214ff-5645-4bfe-9d94-2c69db1b76b4",
   "metadata": {},
   "source": [
    "- Create different functions for different sections of the game\n",
    "- create I function that contains the entire game"
   ]
  },
  {
   "cell_type": "code",
   "execution_count": 27,
   "id": "2e831292-ec13-4f1e-a597-6d891fa342cb",
   "metadata": {},
   "outputs": [],
   "source": [
    "name = \"Andrew\"\n",
    "age = 45\n",
    "country = \"South Africa\""
   ]
  },
  {
   "cell_type": "code",
   "execution_count": 28,
   "id": "0477111e-e1fb-4d00-ae8a-561aaab341e0",
   "metadata": {},
   "outputs": [
    {
     "name": "stdout",
     "output_type": "stream",
     "text": [
      "Andrew\n",
      "45\n",
      "South Africa\n"
     ]
    }
   ],
   "source": [
    "print(name)\n",
    "print(age)\n",
    "print(country)"
   ]
  },
  {
   "cell_type": "code",
   "execution_count": null,
   "id": "fb6ed8d8-3e70-4ef2-933f-8fc986d5ea52",
   "metadata": {},
   "outputs": [],
   "source": []
  },
  {
   "cell_type": "code",
   "execution_count": 29,
   "id": "1ef29564-e387-40ba-a456-f48b87dd48c3",
   "metadata": {},
   "outputs": [
    {
     "name": "stdin",
     "output_type": "stream",
     "text": [
      " 5\n",
      " 7\n",
      " \n"
     ]
    }
   ],
   "source": [
    "name = input()\n",
    "age = input()\n",
    "country = input()"
   ]
  },
  {
   "cell_type": "code",
   "execution_count": 30,
   "id": "7c515f39-15ba-4479-9258-7c8731e59871",
   "metadata": {},
   "outputs": [
    {
     "name": "stdout",
     "output_type": "stream",
     "text": [
      "5\n",
      "7\n",
      "\n"
     ]
    }
   ],
   "source": [
    "print(name)\n",
    "print(age)\n",
    "print(country)"
   ]
  },
  {
   "cell_type": "code",
   "execution_count": null,
   "id": "06e78005-2784-4cdd-a248-20596ac9cd82",
   "metadata": {},
   "outputs": [],
   "source": []
  },
  {
   "cell_type": "markdown",
   "id": "47632887-8057-418f-a9c2-92c51eb209e6",
   "metadata": {},
   "source": [
    "## Now!... Let The Game Begin V3"
   ]
  },
  {
   "cell_type": "code",
   "execution_count": 31,
   "id": "1975534b-0cfc-4c39-9952-be9f60bce09b",
   "metadata": {},
   "outputs": [
    {
     "name": "stdout",
     "output_type": "stream",
     "text": [
      "\n",
      "===== Guess The Number Game =====\n",
      "\n",
      "I'm thinking of a number between 1 - 10\n",
      "\n",
      "Try guess the number\n"
     ]
    },
    {
     "name": "stdin",
     "output_type": "stream",
     "text": [
      " 8\n"
     ]
    },
    {
     "name": "stdout",
     "output_type": "stream",
     "text": [
      "Oops, too high, guess lower\n"
     ]
    }
   ],
   "source": [
    "print(\"\\n===== Guess The Number Game =====\")\n",
    "print(\"\\nI'm thinking of a number between 1 - 10\")\n",
    "print(\"\\nTry guess the number\")\n",
    "\n",
    "secret_number = random.randint(1,10)\n",
    "\n",
    "guess = int(input())\n",
    "\n",
    "if guess == secret_number:\n",
    "    print(\"Congratulations!!! You guessed right!!!\")\n",
    "elif guess > secret_number:\n",
    "    print(\"Oops, too high, guess lower\")\n",
    "else:\n",
    "    print(\"Oops. low!!! Guess a higher number\")"
   ]
  },
  {
   "cell_type": "code",
   "execution_count": 32,
   "id": "b218e324-e49e-40b9-815d-c471461a1d8a",
   "metadata": {},
   "outputs": [
    {
     "name": "stdout",
     "output_type": "stream",
     "text": [
      "1\n",
      "2\n",
      "3\n",
      "4\n",
      "5\n",
      "6\n",
      "7\n",
      "8\n",
      "9\n",
      "10\n"
     ]
    }
   ],
   "source": [
    "list_of_num = [1,2,3,4,5,6,7,8,9,10]\n",
    "\n",
    "for number in list_of_num:\n",
    "    print(number)"
   ]
  },
  {
   "cell_type": "code",
   "execution_count": 33,
   "id": "b158799e-252b-47f0-b1c7-55ed317b5b35",
   "metadata": {},
   "outputs": [
    {
     "name": "stdout",
     "output_type": "stream",
     "text": [
      "1\n",
      "2\n",
      "3\n",
      "4\n",
      "5\n",
      "6\n",
      "7\n",
      "8\n",
      "9\n",
      "10\n",
      "11\n",
      "12\n",
      "13\n",
      "14\n",
      "15\n",
      "16\n",
      "17\n",
      "18\n",
      "19\n",
      "20\n"
     ]
    }
   ],
   "source": [
    "for num in range(1, 21):\n",
    "    print(num)"
   ]
  },
  {
   "cell_type": "code",
   "execution_count": null,
   "id": "75e540ef-fbe6-4ea6-b37a-761ab7f39f8e",
   "metadata": {},
   "outputs": [],
   "source": []
  },
  {
   "cell_type": "code",
   "execution_count": null,
   "id": "c2492cf3-8948-4951-8e28-e5b50130dbeb",
   "metadata": {},
   "outputs": [],
   "source": []
  },
  {
   "cell_type": "markdown",
   "id": "43fc96c8-f77f-4f3a-96c2-28f3f5122f0b",
   "metadata": {},
   "source": [
    "## Now!... Let The Game Begin V4"
   ]
  },
  {
   "cell_type": "code",
   "execution_count": 34,
   "id": "def75a76-753b-405e-899f-7b149c3bd737",
   "metadata": {},
   "outputs": [
    {
     "name": "stdout",
     "output_type": "stream",
     "text": [
      "\n",
      "===== Guess The Number Game =====\n",
      "\n",
      "I'm thinking of a number between 1 - 10\n",
      "\n",
      "Try to guess the number\n",
      "\n",
      "Attempt 1:\n"
     ]
    },
    {
     "name": "stdin",
     "output_type": "stream",
     "text": [
      "Enter your guess:  2\n"
     ]
    },
    {
     "name": "stdout",
     "output_type": "stream",
     "text": [
      "Too high! Try a lower number.\n",
      "\n",
      "Attempt 2:\n"
     ]
    },
    {
     "name": "stdin",
     "output_type": "stream",
     "text": [
      "Enter your guess:  7\n"
     ]
    },
    {
     "name": "stdout",
     "output_type": "stream",
     "text": [
      "Too high! Try a lower number.\n",
      "\n",
      "Attempt 3:\n"
     ]
    },
    {
     "name": "stdin",
     "output_type": "stream",
     "text": [
      "Enter your guess:  3\n"
     ]
    },
    {
     "name": "stdout",
     "output_type": "stream",
     "text": [
      "Too high! Try a lower number.\n",
      "\n",
      "Attempt 4:\n"
     ]
    },
    {
     "name": "stdin",
     "output_type": "stream",
     "text": [
      "Enter your guess:  1\n"
     ]
    },
    {
     "name": "stdout",
     "output_type": "stream",
     "text": [
      "🎉 Congratulations!!! You guessed right!!!\n"
     ]
    }
   ],
   "source": [
    "import random\n",
    "\n",
    "print(\"\\n===== Guess The Number Game =====\")\n",
    "print(\"\\nI'm thinking of a number between 1 - 10\")\n",
    "print(\"\\nTry to guess the number\")\n",
    "\n",
    "secret_number = random.randint(1, 10)\n",
    "\n",
    "# Loop for 5 attempts\n",
    "for attempt in range(1, 6):\n",
    "    print(f\"\\nAttempt {attempt}:\")\n",
    "    \n",
    "    guess = int(input(\"Enter your guess: \"))\n",
    "\n",
    "    if guess == secret_number:\n",
    "        print(\"🎉 Congratulations!!! You guessed right!!!\")\n",
    "        break\n",
    "    elif guess > secret_number:\n",
    "        print(\"Too high! Try a lower number.\")\n",
    "    else:\n",
    "        print(\"Too low! Try a higher number.\")\n",
    "\n",
    "else:\n",
    "    print(f\"\\n😢 Sorry! You've used all attempts. The number was {secret_number}.\")\n"
   ]
  },
  {
   "cell_type": "code",
   "execution_count": null,
   "id": "7412c309-3b12-4156-b10d-5ad22a3a4208",
   "metadata": {},
   "outputs": [],
   "source": []
  },
  {
   "cell_type": "code",
   "execution_count": null,
   "id": "ad7169d1-14ef-4ee6-b398-9d4dfb470b28",
   "metadata": {},
   "outputs": [],
   "source": []
  },
  {
   "cell_type": "markdown",
   "id": "3a851c7f-1c06-4fe1-8fd8-d35198556ea8",
   "metadata": {},
   "source": [
    "## Now!... Let The Game Begin V5\n",
    "\n",
    "\n",
    "# Create Number of Attempts"
   ]
  },
  {
   "cell_type": "code",
   "execution_count": 49,
   "id": "2be7c2e8-d9f1-41c2-8b11-eb662a7666d6",
   "metadata": {},
   "outputs": [
    {
     "name": "stdout",
     "output_type": "stream",
     "text": [
      "\n",
      "===== Guess The Number Game =====\n",
      "\n",
      "I'm thinking of a number between 1 - 10\n",
      "\n",
      "Try to guess the number\n",
      "\n",
      " You have 3 attempts\n",
      "\n",
      "Attempt 1:\n"
     ]
    },
    {
     "name": "stdin",
     "output_type": "stream",
     "text": [
      "Enter your guess:  8\n"
     ]
    },
    {
     "name": "stdout",
     "output_type": "stream",
     "text": [
      "Too high! Try a lower number. Attempts left = 2\n",
      "\n",
      "Attempt 2:\n"
     ]
    },
    {
     "name": "stdin",
     "output_type": "stream",
     "text": [
      "Enter your guess:  4\n"
     ]
    },
    {
     "name": "stdout",
     "output_type": "stream",
     "text": [
      "Too low! Try a higher number. Attempts left = 1\n",
      "\n",
      "Attempt 3:\n"
     ]
    },
    {
     "name": "stdin",
     "output_type": "stream",
     "text": [
      "Enter your guess:  6\n"
     ]
    },
    {
     "name": "stdout",
     "output_type": "stream",
     "text": [
      "Too low! Try a higher number. Attempts left = 0\n",
      "\n",
      "😢 Sorry! You've used all attempts. The number was 7.\n"
     ]
    }
   ],
   "source": [
    "import random\n",
    "\n",
    "print(\"\\n===== Guess The Number Game =====\")\n",
    "print(\"\\nI'm thinking of a number between 1 - 10\")\n",
    "print(\"\\nTry to guess the number\")\n",
    "print(\"\\n You have 3 attempts\")\n",
    "\n",
    "secret_number = random.randint(1, 10)\n",
    "\n",
    "# Loop for 5 attempts\n",
    "for attempt in range(1, 4):\n",
    "    print(f\"\\nAttempt {attempt}:\")\n",
    "    \n",
    "    guess = int(input(\"Enter your guess: \"))\n",
    "\n",
    "    if guess == secret_number:\n",
    "        print(\"🎉 Congratulations!!! You guessed right!!!\")\n",
    "        break\n",
    "    elif guess > secret_number:\n",
    "        print(\"Too high! Try a lower number. Attempts left =\", 3 - attempt)\n",
    "    else:\n",
    "        print(\"Too low! Try a higher number. Attempts left =\", 3 - attempt)\n",
    "\n",
    "else:\n",
    "    print(f\"\\n😢 Sorry! You've used all attempts. The number was {secret_number}.\")\n"
   ]
  },
  {
   "cell_type": "code",
   "execution_count": null,
   "id": "b2560095-c8bc-499d-b8a6-e78bd8c8ba66",
   "metadata": {},
   "outputs": [],
   "source": []
  }
 ],
 "metadata": {
  "kernelspec": {
   "display_name": "Python 3 (ipykernel)",
   "language": "python",
   "name": "python3"
  },
  "language_info": {
   "codemirror_mode": {
    "name": "ipython",
    "version": 3
   },
   "file_extension": ".py",
   "mimetype": "text/x-python",
   "name": "python",
   "nbconvert_exporter": "python",
   "pygments_lexer": "ipython3",
   "version": "3.12.11"
  }
 },
 "nbformat": 4,
 "nbformat_minor": 5
}
